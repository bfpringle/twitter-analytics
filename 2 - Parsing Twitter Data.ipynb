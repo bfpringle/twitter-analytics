{
 "cells": [
  {
   "cell_type": "code",
   "execution_count": 1,
   "metadata": {
    "collapsed": true
   },
   "outputs": [],
   "source": [
    "%matplotlib inline\n",
    "\n",
    "import json\n",
    "import pandas as pd"
   ]
  },
  {
   "cell_type": "markdown",
   "metadata": {},
   "source": [
    "# JSON - JavaScript Object Notation\n",
    "\n",
    "Much of the data with which we will work comes in the JavaScript Object Notation (JSON) format.\n",
    "JSON is a lightweight text format that allows one to describe objects by __keys__ and __values__ without needing to specify a schema beforehand (as compared to XML).\n",
    "\n",
    "Many \"RESTful\" APIs available on the web today return data in JSON format, and the data we have stored from Twitter follows this rule as well.\n",
    "\n",
    "Python's JSON support is relatively robust and is included in the language under the json package.\n",
    "This package allows us to read and write JSON to/from a string or file and convert many of Python's types into a text format."
   ]
  },
  {
   "cell_type": "markdown",
   "metadata": {},
   "source": [
    "## JSON and Keys/Values\n",
    "\n",
    "The main idea here is that JSON allows one to specify a key, or name, for some data and then that data's value as a string, number, or object.\n",
    "\n",
    "An example line of JSON might look like:\n",
    "\n",
    "> {\"key\": \"value\"}"
   ]
  },
  {
   "cell_type": "code",
   "execution_count": 2,
   "metadata": {},
   "outputs": [
    {
     "name": "stdout",
     "output_type": "stream",
     "text": [
      "Resulting dictionary object:\n",
      " {'key': 'value'}\n"
     ]
    }
   ],
   "source": [
    "json_string = '{\"key\": \"value\"}'\n",
    "\n",
    "# Parse the JSON string\n",
    "dict_from_json = json.loads(json_string)\n",
    "\n",
    "# Python now has a dictionary representing this data\n",
    "print (\"Resulting dictionary object:\\n\", dict_from_json)"
   ]
  },
  {
   "cell_type": "code",
   "execution_count": 3,
   "metadata": {},
   "outputs": [
    {
     "name": "stdout",
     "output_type": "stream",
     "text": [
      "Data stored in \"key\":\n",
      " value\n"
     ]
    }
   ],
   "source": [
    "# Will print the value\n",
    "print (\"Data stored in \\\"key\\\":\\n\", dict_from_json[\"key\"])"
   ]
  },
  {
   "cell_type": "code",
   "execution_count": 4,
   "metadata": {
    "collapsed": true
   },
   "outputs": [],
   "source": [
    "# This will cause an error!\n",
    "\n",
    "# print (\"Data stored in \\\"value\\\":\\n\", dict_from_json[\"value\"])"
   ]
  },
  {
   "cell_type": "markdown",
   "metadata": {},
   "source": [
    "## Multiple Keys and Values\n",
    "\n",
    "A JSON string/file can have many keys and values, but a key should always have a value.\n",
    "We can have values without keys if we're doing lists, but this can be awkward.\n",
    "\n",
    "An example of JSON string with multiple keys is below:\n",
    "\n",
    "``\n",
    "{\n",
    "\"name\": \"Jake\",\n",
    "\"age\": 31,\n",
    "\"gender\": \"male\",\n",
    "\"city\": \"Boston\"\n",
    "}\n",
    "``\n",
    "\n",
    "Note the __comma__ after the first two values. \n",
    "These commas are needed for valid JSON and to separate keys from other values."
   ]
  },
  {
   "cell_type": "code",
   "execution_count": 5,
   "metadata": {},
   "outputs": [
    {
     "name": "stdout",
     "output_type": "stream",
     "text": [
      "Resulting dictionary object:\n",
      " {'name': 'Jake', 'age': 31, 'gender': 'male', 'city': 'Boston'}\n"
     ]
    }
   ],
   "source": [
    "json_string = '{\"name\": \"Jake\",\"age\": 31,\"gender\": \"male\",\"city\": \"Boston\"}'\n",
    "\n",
    "# Parse the JSON string\n",
    "dict_from_json = json.loads(json_string)\n",
    "\n",
    "# Python now has a dictionary representing this data\n",
    "print (\"Resulting dictionary object:\\n\", dict_from_json)"
   ]
  },
  {
   "cell_type": "markdown",
   "metadata": {},
   "source": [
    "## JSON and Lists\n",
    "\n",
    "The above JSON string describes an __object__ whose name is \"Cody\".\n",
    "How would we describe a list of similar students?\n",
    "Lists are useful here and are denoted with \"[]\" rather than the \"{}\" object notation.\n",
    "For example:\n",
    "\n",
    "``\n",
    "{\n",
    "    \"students\": [\n",
    "        {\n",
    "            \"name\": \"Jake\",\n",
    "            \"age\": 31,\n",
    "            \"gender\": \"male\",\n",
    "            \"city\": \"Boston\"\n",
    "        }\n",
    "        {\n",
    "            \"name\": \"Natalia\",\n",
    "            \"age\": 28,\n",
    "            \"gender\": \"female\",\n",
    "            \"city\": \"Cambridge\"\n",
    "        }\n",
    "    ]\n",
    "}\n",
    "``\n",
    "\n",
    "Again, note the comma between the \"}\" and \"{\" separating the two student objects and how they are both surrounded by \"[]\"."
   ]
  },
  {
   "cell_type": "code",
   "execution_count": 6,
   "metadata": {},
   "outputs": [
    {
     "name": "stdout",
     "output_type": "stream",
     "text": [
      "Resulting list:\n",
      " {'students': [{'name': 'Jake', 'age': 31, 'gender': 'male', 'city': 'Boston'}, {'name': 'Natalia', 'age': 28, 'gender': 'female', 'city': 'Cambridge'}]}\n",
      "\n",
      "Each student:\n",
      "\n",
      "{'name': 'Jake', 'age': 31, 'gender': 'male', 'city': 'Boston'} \n",
      "\n",
      "{'name': 'Natalia', 'age': 28, 'gender': 'female', 'city': 'Cambridge'} \n",
      "\n"
     ]
    }
   ],
   "source": [
    "json_string = '{\"students\":[{\"name\":\"Jake\",\"age\":31,\"gender\":\"male\",\"city\":\"Boston\"},{\"name\": \"Natalia\",\"age\":28,\"gender\":\"female\",\"city\":\"Cambridge\"}]}'\n",
    "\n",
    "# Parse the JSON string\n",
    "dict_from_json = json.loads(json_string)\n",
    "\n",
    "# Python now has a dictionary representing this data\n",
    "print(\"Resulting list:\\n\", dict_from_json)\n",
    "\n",
    "\n",
    "\n",
    "print(\"\\nEach student:\\n\")\n",
    "for student in dict_from_json[\"students\"]:\n",
    "    print(student, '\\n')"
   ]
  },
  {
   "cell_type": "markdown",
   "metadata": {},
   "source": [
    "## More JSON + Lists\n",
    "\n",
    "A couple of things to note:\n",
    "1. JSON does not *need* a name for the list. It could be declared just as an list.\n",
    "1. The student objects need not be identical.\n",
    "\n",
    "As an example:\n",
    "\n",
    "``\n",
    "[\n",
    "        {\n",
    "            \"name\": \"Jake\",\n",
    "            \"age\": 31,\n",
    "            \"gender\": \"male\",\n",
    "            \"city\": \"Boston\"\n",
    "        }\n",
    "        {\n",
    "            \"name\": \"Natalia\",\n",
    "            \"gender\": \"female\",\n",
    "            \"city\": \"Cambridge\",\n",
    "            \"goal\": \"Master degree\"\n",
    "        }\n",
    "]\n",
    "``"
   ]
  },
  {
   "cell_type": "code",
   "execution_count": 7,
   "metadata": {},
   "outputs": [
    {
     "name": "stdout",
     "output_type": "stream",
     "text": [
      "Resulting list:\n",
      " {'students': [{'name': 'Jake', 'age': 31, 'gender': 'male', 'city': 'Boston'}, {'name': 'Natalia', 'gender': 'female', 'city': 'Cambridge', 'goal': 'Master degree'}]}\n",
      "\n",
      "Each student:\n",
      "\n",
      "{'name': 'Jake', 'age': 31, 'gender': 'male', 'city': 'Boston'} \n",
      "\n",
      "{'name': 'Natalia', 'gender': 'female', 'city': 'Cambridge', 'goal': 'Master degree'} \n",
      "\n"
     ]
    }
   ],
   "source": [
    "json_string = '{\"students\":[{\"name\":\"Jake\",\"age\":31,\"gender\":\"male\",\"city\":\"Boston\"},{\"name\": \"Natalia\",\"gender\":\"female\",\"city\":\"Cambridge\",\"goal\": \"Master degree\"}]}'\n",
    "\n",
    "# Parse the JSON string\n",
    "dict_from_json = json.loads(json_string)\n",
    "\n",
    "# Python now has a dictionary representing this data\n",
    "print(\"Resulting list:\\n\", dict_from_json)\n",
    "\n",
    "\n",
    "\n",
    "print(\"\\nEach student:\\n\")\n",
    "for student in dict_from_json[\"students\"]:\n",
    "    print(student, '\\n')"
   ]
  },
  {
   "cell_type": "markdown",
   "metadata": {},
   "source": [
    "## Nested JSON Objects\n",
    "\n",
    "We've shown you can have an list as a value, and you can do the same with objects.\n",
    "In fact, one of the powers of JSON is its essentially infinite depth/expressability. \n",
    "You can very easily nest objects within objects, and JSON in the wild relies on this heavily.\n",
    "\n",
    "Below is an example of JSON data collected from Google map API (https://maps.googleapis.com/maps/api/geocode/json?address=Babson+College):\n",
    "\n",
    "\n",
    "\n",
    "``\n",
    "{\n",
    "   \"results\" : [\n",
    "      {\n",
    "         \"address_components\" : [\n",
    "            {\n",
    "               \"long_name\" : \"231\",\n",
    "               \"short_name\" : \"231\",\n",
    "               \"types\" : [ \"street_number\" ]\n",
    "            },\n",
    "            {\n",
    "               \"long_name\" : \"Forest Street\",\n",
    "               \"short_name\" : \"Forest St\",\n",
    "               \"types\" : [ \"route\" ]\n",
    "            },\n",
    "            {\n",
    "               \"long_name\" : \"Babson Park\",\n",
    "               \"short_name\" : \"Babson Park\",\n",
    "               \"types\" : [ \"neighborhood\", \"political\" ]\n",
    "            },\n",
    "            {\n",
    "               \"long_name\" : \"Wellesley\",\n",
    "               \"short_name\" : \"Wellesley\",\n",
    "               \"types\" : [ \"locality\", \"political\" ]\n",
    "            },\n",
    "            {\n",
    "               \"long_name\" : \"Norfolk County\",\n",
    "               \"short_name\" : \"Norfolk County\",\n",
    "               \"types\" : [ \"administrative_area_level_2\", \"political\" ]\n",
    "            },\n",
    "            {\n",
    "               \"long_name\" : \"Massachusetts\",\n",
    "               \"short_name\" : \"MA\",\n",
    "               \"types\" : [ \"administrative_area_level_1\", \"political\" ]\n",
    "            },\n",
    "            {\n",
    "               \"long_name\" : \"United States\",\n",
    "               \"short_name\" : \"US\",\n",
    "               \"types\" : [ \"country\", \"political\" ]\n",
    "            },\n",
    "            {\n",
    "               \"long_name\" : \"02457\",\n",
    "               \"short_name\" : \"02457\",\n",
    "               \"types\" : [ \"postal_code\" ]\n",
    "            },\n",
    "            {\n",
    "               \"long_name\" : \"0310\",\n",
    "               \"short_name\" : \"0310\",\n",
    "               \"types\" : [ \"postal_code_suffix\" ]\n",
    "            }\n",
    "         ],\n",
    "         \"formatted_address\" : \"231 Forest St, Babson Park, MA 02457, USA\",\n",
    "         \"geometry\" : {\n",
    "            \"location\" : {\n",
    "               \"lat\" : 42.2993708,\n",
    "               \"lng\" : -71.2659951\n",
    "            },\n",
    "            \"location_type\" : \"ROOFTOP\",\n",
    "            \"viewport\" : {\n",
    "               \"northeast\" : {\n",
    "                  \"lat\" : 42.3007197802915,\n",
    "                  \"lng\" : -71.26464611970849\n",
    "               },\n",
    "               \"southwest\" : {\n",
    "                  \"lat\" : 42.2980218197085,\n",
    "                  \"lng\" : -71.26734408029149\n",
    "               }\n",
    "            }\n",
    "         },\n",
    "         \"place_id\" : \"ChIJ7xQZi0GB44kRiWrnmTgf904\",\n",
    "         \"types\" : [ \"establishment\", \"point_of_interest\" ]\n",
    "      }\n",
    "   ],\n",
    "   \"status\" : \"OK\"\n",
    "}\n",
    "``"
   ]
  },
  {
   "cell_type": "markdown",
   "metadata": {},
   "source": [
    "Read the following code and think what will be printed before excuting the cell."
   ]
  },
  {
   "cell_type": "code",
   "execution_count": 8,
   "metadata": {},
   "outputs": [
    {
     "name": "stdout",
     "output_type": "stream",
     "text": [
      "Massachusetts\n"
     ]
    }
   ],
   "source": [
    "import urllib.request\n",
    "\n",
    "url = \"https://maps.googleapis.com/maps/api/geocode/json?address=Babson+College\"\n",
    "f = urllib.request.urlopen(url)\n",
    "response_text = f.read().decode('utf-8')\n",
    "response_data = json.loads(response_text)\n",
    "print(response_data['results'][0]['address_components'][5]['long_name'])"
   ]
  },
  {
   "cell_type": "markdown",
   "metadata": {},
   "source": [
    "## Reading Twitter JSON\n",
    "\n",
    "We should now have all the tools necessary to understand how Python can read Twitter JSON data.\n",
    "To show this, we'll read in the @realdonaldtrump's first tweet, and parse it with Python's JSON loader."
   ]
  },
  {
   "cell_type": "code",
   "execution_count": 9,
   "metadata": {},
   "outputs": [
    {
     "name": "stdout",
     "output_type": "stream",
     "text": [
      "Raw Tweet JSON:\n",
      "\n",
      "b'{\"in_reply_to_screen_name\":null,\"favorited\":false,\"in_reply_to_status_id_str\":null,\"in_reply_to_status_id\":null,\"truncated\":false,\"screen_name\":\"realDonaldTrump\",\"is_quote_status\":false,\"text\":\"Be sure to tune in and watch Donald Trump on Late Night with David Letterman as he presents the Top Ten List tonight!\",\"display_text_range\":[0,117],\"in_reply_to_user_id\":null,\"favorite_count\":359,\"contributors\":null,\"created_at\":\"Mon May 04 18:54:25 +0000 2009\",\"user_id\":25073877,\"in_reply_to_user_id_str\":null,\"id\":1698308935,\"coordinates\":null,\"entities\":{\"user_mentions\":[],\"hashtags\":[],\"urls\":[],\"symbols\":[]},\"id_str\":\"1698308935\",\"lang\":\"en\",\"source\":\"<a href=\\\\\"http://twitter.com\\\\\" rel=\\\\\"nofollow\\\\\">Twitter Web Client</a>\",\"geo\":null,\"place\":null,\"retweet_count\":412,\"retweeted\":false}\\n'\n",
      "\n",
      "Tweet Object:\n",
      "\n",
      "{'in_reply_to_screen_name': None, 'favorited': False, 'in_reply_to_status_id_str': None, 'in_reply_to_status_id': None, 'truncated': False, 'screen_name': 'realDonaldTrump', 'is_quote_status': False, 'text': 'Be sure to tune in and watch Donald Trump on Late Night with David Letterman as he presents the Top Ten List tonight!', 'display_text_range': [0, 117], 'in_reply_to_user_id': None, 'favorite_count': 359, 'contributors': None, 'created_at': 'Mon May 04 18:54:25 +0000 2009', 'user_id': 25073877, 'in_reply_to_user_id_str': None, 'id': 1698308935, 'coordinates': None, 'entities': {'user_mentions': [], 'hashtags': [], 'urls': [], 'symbols': []}, 'id_str': '1698308935', 'lang': 'en', 'source': '<a href=\"http://twitter.com\" rel=\"nofollow\">Twitter Web Client</a>', 'geo': None, 'place': None, 'retweet_count': 412, 'retweeted': False}\n"
     ]
    }
   ],
   "source": [
    "import gzip\n",
    "with gzip.open('data/realdonaldtrump_22893.gz', 'rb') as f:\n",
    "    tweet_content = f.readline()\n",
    "\n",
    "\n",
    "# Print the raw json\n",
    "print(\"Raw Tweet JSON:\\n\")\n",
    "print(tweet_content)\n",
    "\n",
    "# Convert the JSON to a Python object\n",
    "tweet = json.loads(tweet_content)\n",
    "print(\"\\nTweet Object:\\n\")\n",
    "print(tweet)\n"
   ]
  },
  {
   "cell_type": "markdown",
   "metadata": {},
   "source": [
    "## Twitter JSON Fields\n",
    "\n",
    "This tweet is pretty big, but we can still see some of the fields it contains. \n",
    "Note it also has many nested fields.\n",
    "We'll go through some of the more important fields below."
   ]
  },
  {
   "cell_type": "code",
   "execution_count": 10,
   "metadata": {},
   "outputs": [
    {
     "name": "stdout",
     "output_type": "stream",
     "text": [
      "Keys:\n",
      "\t contributors\n",
      "\t coordinates\n",
      "\t created_at\n",
      "\t display_text_range\n",
      "\t entities\n",
      "\t favorite_count\n",
      "\t favorited\n",
      "\t geo\n",
      "\t id\n",
      "\t id_str\n",
      "\t in_reply_to_screen_name\n",
      "\t in_reply_to_status_id\n",
      "\t in_reply_to_status_id_str\n",
      "\t in_reply_to_user_id\n",
      "\t in_reply_to_user_id_str\n",
      "\t is_quote_status\n",
      "\t lang\n",
      "\t place\n",
      "\t retweet_count\n",
      "\t retweeted\n",
      "\t screen_name\n",
      "\t source\n",
      "\t text\n",
      "\t truncated\n",
      "\t user_id\n",
      "\n",
      "\n",
      "in_reply_to_screen_name \t None\n",
      "favorited \t False\n",
      "in_reply_to_status_id_str \t None\n",
      "in_reply_to_status_id \t None\n",
      "truncated \t False\n",
      "screen_name \t realDonaldTrump\n",
      "is_quote_status \t False\n",
      "text \t Be sure to tune in and watch Donald Trump on Late Night with David Letterman as he presents the Top Ten List tonight!\n",
      "display_text_range \t [0, 117]\n",
      "in_reply_to_user_id \t None\n",
      "favorite_count \t 359\n",
      "contributors \t None\n",
      "created_at \t Mon May 04 18:54:25 +0000 2009\n",
      "user_id \t 25073877\n",
      "in_reply_to_user_id_str \t None\n",
      "id \t 1698308935\n",
      "coordinates \t None\n",
      "entities \t {'user_mentions': [], 'hashtags': [], 'urls': [], 'symbols': []}\n",
      "id_str \t 1698308935\n",
      "lang \t en\n",
      "source \t <a href=\"http://twitter.com\" rel=\"nofollow\">Twitter Web Client</a>\n",
      "geo \t None\n",
      "place \t None\n",
      "retweet_count \t 412\n",
      "retweeted \t False\n",
      "\n",
      "Entities:\n",
      "\t user_mentions\n",
      "\t hashtags\n",
      "\t urls\n",
      "\t symbols\n"
     ]
    }
   ],
   "source": [
    "# What fields can we see?\n",
    "print(\"Keys:\")\n",
    "for k in sorted(tweet.keys()):\n",
    "    print (\"\\t\", k)\n",
    "    \n",
    "print(\"\\n\")\n",
    "\n",
    "for k, v in tweet.items():\n",
    "    print(k,\"\\t\",v)\n",
    "\n",
    "# Tweets have a list of hashtags, mentions, URLs, and other\n",
    "# attachments in \"entities\" field\n",
    "print (\"\\nEntities:\")\n",
    "for entity in tweet[\"entities\"]:\n",
    "    print (\"\\t\", entity)\n",
    "    \n",
    "    for e in tweet[\"entities\"][entity]:\n",
    "        print (\"\\t\\t\", e)"
   ]
  }
 ],
 "metadata": {
  "kernelspec": {
   "display_name": "Python 3",
   "language": "python",
   "name": "python3"
  },
  "language_info": {
   "codemirror_mode": {
    "name": "ipython",
    "version": 3
   },
   "file_extension": ".py",
   "mimetype": "text/x-python",
   "name": "python",
   "nbconvert_exporter": "python",
   "pygments_lexer": "ipython3",
   "version": "3.6.3"
  }
 },
 "nbformat": 4,
 "nbformat_minor": 1
}
