{
 "cells": [
  {
   "cell_type": "code",
   "execution_count": 1,
   "metadata": {
    "collapsed": true
   },
   "outputs": [],
   "source": [
    "%matplotlib inline"
   ]
  },
  {
   "cell_type": "markdown",
   "metadata": {},
   "source": [
    "## Twitter API\n",
    "\n",
    "Twitter's API is probably the most useful and flexible but takes several steps to configure. \n",
    "To get access to the API, you first need to have a Twitter account and have a mobile phone number (or any number that can receive text messages) attached to that account.\n",
    "Then, we'll use Twitter's developer portal to create an \"app\" that will then give us the keys tokens and keys (essentially IDs and passwords) we will need to connect to the API.\n",
    "\n",
    "So, in summary, the general steps are:\n",
    "\n",
    "0. Have a Twitter account,\n",
    "1. Configure your Twitter account with your mobile number,\n",
    "2. Create an app on Twitter's developer site, and\n",
    "3. Generate consumer and access keys and secrets.\n",
    "\n",
    "We will then plug these four strings into the code below."
   ]
  },
  {
   "cell_type": "markdown",
   "metadata": {},
   "source": [
    "You need a Python library <code>tweepy</code>, which you can install by running the following command in **Command Prompt**:\n",
    "\n",
    "```\n",
    "pip install tweepy\n",
    "```"
   ]
  },
  {
   "cell_type": "code",
   "execution_count": 2,
   "metadata": {
    "collapsed": true
   },
   "outputs": [],
   "source": [
    "# For our first piece of code, we need to import the package \n",
    "# that connects to Twitter. Tweepy is a popular and fully featured\n",
    "# implementation.\n",
    "\n",
    "import tweepy"
   ]
  },
  {
   "cell_type": "markdown",
   "metadata": {},
   "source": [
    "### Creating Twitter Credentials\n",
    "\n",
    "For more in-depth instructions for creating a Twitter account and/or setting up a Twitter account to use the following code, I will provide a walkthrough on configuring and generating this information.\n",
    "\n",
    "First, we assume you already have a Twitter account.\n",
    "If this is not true, either create one real quick or follow along.\n",
    "See the attached figures.\n",
    "\n",
    "- __Step 1. Create a Twitter account__ If you haven't already done this, do this now at Twitter.com.\n",
    "\n",
    "\n",
    "- __Step 2. Setting your mobile number__ Log into Twitter and go to \"Settings.\" From there, click \"Mobile\" and fill in an SMS-enabled phone number. You will be asked to confirm this number once it's set, and you'll need to do so before you can create any apps for the next step.\n",
    "\n",
    "\n",
    "- __Step 3. Create an app in Twitter's Dev site__ Go to (https://apps.twitter.com/), and click the \"Create New App\" button. Fill in the \"Name,\" \"Description,\" and \"Website\" fields (you can use any website URL), leaving the callback one blank (we're not going to use it). Note that the website __must__ be a fully qualified URL, so it should look like: http://test.url.com. Then scroll down and read the developer agreement, checking that agree, and finally click \"Create your Twitter application.\"\n",
    "\n",
    "\n",
    "- __Step 4. Generate keys and tokens with this app__ After your application has been created, you will see a summary page like the one below. Click \"Keys and Access Tokens\" to view and manage keys. Scroll down and click \"Create my access token.\" After a moment, your page should refresh, and it should show you four long strings of characters and numbers, a consume key, consumer secret, an access token, and an access secret (note these are __case-sensitive__!). Copy and past these four strings into the quotes in the code cell below.\n"
   ]
  },
  {
   "cell_type": "code",
   "execution_count": 3,
   "metadata": {
    "collapsed": true
   },
   "outputs": [],
   "source": [
    "# Use the strings from your Twitter app webpage to populate these four \n",
    "# variables. Be sure and put the strings BETWEEN the quotation marks\n",
    "# to make it a valid Python string.\n",
    "\n",
    "consumer_key = # Your Cosumer Key\n",
    "consumer_secret = # Your Cosumer Secret\n",
    "access_token = # Your Access Token\n",
    "access_secret = # Your Access Secret"
   ]
  },
  {
   "cell_type": "markdown",
   "metadata": {},
   "source": [
    "### Connecting to Twitter\n",
    "\n",
    "Once we have the authentication details set, we can connect to Twitter using the Tweepy OAuth handler, as below."
   ]
  },
  {
   "cell_type": "code",
   "execution_count": 4,
   "metadata": {},
   "outputs": [
    {
     "name": "stdout",
     "output_type": "stream",
     "text": [
      "Connected to Twitter!\n"
     ]
    }
   ],
   "source": [
    "# Now we use the configured authentication information to connect\n",
    "# to Twitter's API\n",
    "auth = tweepy.OAuthHandler(consumer_key, consumer_secret)\n",
    "auth.set_access_token(access_token, access_secret)\n",
    "\n",
    "api = tweepy.API(auth, wait_on_rate_limit=True)\n",
    "\n",
    "print(\"Connected to Twitter!\")"
   ]
  },
  {
   "cell_type": "markdown",
   "metadata": {},
   "source": [
    "### Testing our Connection\n",
    "\n",
    "Now that we are connected to Twitter, let's do a brief check that we can read tweets by pulling the first few tweets from our own timeline (or the account associated with your Twitter app) and printing them."
   ]
  },
  {
   "cell_type": "code",
   "execution_count": 5,
   "metadata": {},
   "outputs": [
    {
     "name": "stdout",
     "output_type": "stream",
     "text": [
      "outline The Outline said: Dank meme and vaporwave Facebook pages are now selling novelty mugs and T-shirts https://t.co/tbNbTC6iEN https://t.co/aG0UbUPk2U \n",
      "\n",
      "KirkDBorne Kirk Borne said: 10 Free #MachineLearning and #AI books: https://t.co/2JltjwVQW6 #abdsc #BigData #DataScience via @DataScienceCtrl https://t.co/0U1AIwfS2s \n",
      "\n",
      "peteskomoroch Peter Skomoroch said: RT @TerribleMaps: Changing Maps to Fit a Narrative\n",
      "\n",
      "Source: xkcd https://t.co/n7gbqrSzhO \n",
      "\n",
      "KirkDBorne Kirk Borne said: Learn #Python for #DataScience with these tutorials, books, articles, resources: https://t.co/l4utBzTjDN #abdsc… https://t.co/XRdN2sgr7S \n",
      "\n",
      "KirkDBorne Kirk Borne said: Fantastic! &gt;&gt; 100 Free Tutorials for learning R: https://t.co/j9sICk7MQL #abdsc #BigData #DataScience #Statistics #MachineLearning #Rstats \n",
      "\n"
     ]
    }
   ],
   "source": [
    "# Get tweets from our timeline\n",
    "public_tweets = api.home_timeline()\n",
    "\n",
    "# print the first five authors and tweet texts\n",
    "for tweet in public_tweets[:5]:\n",
    "    print (tweet.author.screen_name, tweet.author.name, \"said:\", tweet.text, '\\n')"
   ]
  },
  {
   "cell_type": "markdown",
   "metadata": {},
   "source": [
    "### Searching Twitter for Keywords\n",
    "\n",
    "Now that we're connected, we can search Twitter for specific keywords with relative ease just like you were using Twitter's search box.\n",
    "While this search only goes back 7 days and/or 1,500 tweets (whichever is less), it can be powerful if an event you want to track just started.\n",
    "\n",
    "Note that you might have to deal with paging if you get lots of data. Twitter will only return you one page of up to 100 tweets at a time."
   ]
  },
  {
   "cell_type": "code",
   "execution_count": 6,
   "metadata": {
    "collapsed": true
   },
   "outputs": [],
   "source": [
    "# You can change the queryString to other keyword you want to search on Twitter\n",
    "query = \"celtics\" "
   ]
  },
  {
   "cell_type": "code",
   "execution_count": 7,
   "metadata": {},
   "outputs": [
    {
     "name": "stdout",
     "output_type": "stream",
     "text": [
      "Searched for: celtics\n",
      "Number found: 15\n",
      "\n",
      "Tweets:\n",
      "Freetzandrei RT @celtics: .@KyrieIrving kept the Bucks dancing last night 👇 https://t.co/ruc5W5VtK3 \n",
      "\n",
      "PauletteCheyney RT @Dj_E5QUIRE: Celtics Gordon Hayward just landed awkwardly &amp; broke his ankle. https://t.co/ZKXblZiYy1 \n",
      "\n",
      "henrylynsz RT @Dj_E5QUIRE: Celtics Gordon Hayward just landed awkwardly &amp; broke his ankle. https://t.co/ZKXblZiYy1 \n",
      "\n",
      "EspiriTruth RT @CelticsNewsNBA: #NBA has given the #Celtics an $8.4M disabled player exception for Gordon Hayward being out for the season. The DPE wil… \n",
      "\n",
      "tycoonguilly @Celtics_Fan494 Boy mans safe G, everything cool with you and fam down there? \n",
      "\n",
      "jamey_kennemur RT @MattChinNBA: Tommy Heinsohn made his debut 61 years ago today. Cool old school montage from Celtics Daily. https://t.co/65vl673ChC \n",
      "\n",
      "Onhisbeard RT @celtics: \"Fine, I'll just shoot over you\"\n",
      "\n",
      "First of all... https://t.co/TR9nfjUl6Z \n",
      "\n",
      "TracieHendrix_ RT @Dj_E5QUIRE: Celtics Gordon Hayward just landed awkwardly &amp; broke his ankle. https://t.co/ZKXblZiYy1 \n",
      "\n",
      "901MacJ Bruh the nba granted the Boston Celtics 8.4 million dollars for basically losing Gordon Hayward for year \n",
      "\n",
      "CRAZYFLYBIRD718 RT @Dj_E5QUIRE: Celtics Gordon Hayward just landed awkwardly &amp; broke his ankle. https://t.co/ZKXblZiYy1 \n",
      "\n",
      "Tmoney92080 RT @JaredWeissNBA: Boston #Celtics disabled player exception targets: Nerlens Noel, Jahlil Okafor and expiring rookie deals https://t.co/rT… \n",
      "\n",
      "theywantLEXX RT @Dj_E5QUIRE: Celtics Gordon Hayward just landed awkwardly &amp; broke his ankle. https://t.co/ZKXblZiYy1 \n",
      "\n",
      "Ixwie RT @Dj_E5QUIRE: Celtics Gordon Hayward just landed awkwardly &amp; broke his ankle. https://t.co/ZKXblZiYy1 \n",
      "\n",
      "nonemotionaI RT @Dj_E5QUIRE: Celtics Gordon Hayward just landed awkwardly &amp; broke his ankle. https://t.co/ZKXblZiYy1 \n",
      "\n",
      "asiflive RT @Dj_E5QUIRE: Celtics Gordon Hayward just landed awkwardly &amp; broke his ankle. https://t.co/ZKXblZiYy1 \n",
      "\n"
     ]
    }
   ],
   "source": [
    "# Perform the search\n",
    "matching_tweets = api.search(q=query, rpp=100)\n",
    "\n",
    "print (\"Searched for:\", query)\n",
    "print (\"Number found:\", len(matching_tweets))\n",
    "\n",
    "# For each tweet that matches our query, print the author and text\n",
    "print (\"\\nTweets:\")\n",
    "for tweet in matching_tweets:\n",
    "    print (tweet.author.screen_name, tweet.text, '\\n')"
   ]
  },
  {
   "cell_type": "markdown",
   "metadata": {},
   "source": [
    "### More Complex Queries\n",
    "\n",
    "Twitter's Search API exposes many capabilities, like filtering for media, links, mentions, geolocations, dates, etc.\n",
    "We can access these capabilities directly with the search function.\n",
    "\n",
    "For a list of operators Twitter supports, go here: https://dev.twitter.com/rest/public/search"
   ]
  },
  {
   "cell_type": "code",
   "execution_count": 8,
   "metadata": {},
   "outputs": [
    {
     "name": "stdout",
     "output_type": "stream",
     "text": [
      "Searched for: celtics (filter:media OR filter:links)\n",
      "Number found: 15\n",
      "\n",
      "Tweets:\n",
      "Freetzandrei RT @celtics: .@KyrieIrving kept the Bucks dancing last night 👇 https://t.co/ruc5W5VtK3 \n",
      "\n",
      "PauletteCheyney RT @Dj_E5QUIRE: Celtics Gordon Hayward just landed awkwardly &amp; broke his ankle. https://t.co/ZKXblZiYy1 \n",
      "\n",
      "henrylynsz RT @Dj_E5QUIRE: Celtics Gordon Hayward just landed awkwardly &amp; broke his ankle. https://t.co/ZKXblZiYy1 \n",
      "\n",
      "jamey_kennemur RT @MattChinNBA: Tommy Heinsohn made his debut 61 years ago today. Cool old school montage from Celtics Daily. https://t.co/65vl673ChC \n",
      "\n",
      "Onhisbeard RT @celtics: \"Fine, I'll just shoot over you\"\n",
      "\n",
      "First of all... https://t.co/TR9nfjUl6Z \n",
      "\n",
      "TracieHendrix_ RT @Dj_E5QUIRE: Celtics Gordon Hayward just landed awkwardly &amp; broke his ankle. https://t.co/ZKXblZiYy1 \n",
      "\n",
      "CRAZYFLYBIRD718 RT @Dj_E5QUIRE: Celtics Gordon Hayward just landed awkwardly &amp; broke his ankle. https://t.co/ZKXblZiYy1 \n",
      "\n",
      "Tmoney92080 RT @JaredWeissNBA: Boston #Celtics disabled player exception targets: Nerlens Noel, Jahlil Okafor and expiring rookie deals https://t.co/rT… \n",
      "\n",
      "theywantLEXX RT @Dj_E5QUIRE: Celtics Gordon Hayward just landed awkwardly &amp; broke his ankle. https://t.co/ZKXblZiYy1 \n",
      "\n",
      "Ixwie RT @Dj_E5QUIRE: Celtics Gordon Hayward just landed awkwardly &amp; broke his ankle. https://t.co/ZKXblZiYy1 \n",
      "\n",
      "nonemotionaI RT @Dj_E5QUIRE: Celtics Gordon Hayward just landed awkwardly &amp; broke his ankle. https://t.co/ZKXblZiYy1 \n",
      "\n",
      "asiflive RT @Dj_E5QUIRE: Celtics Gordon Hayward just landed awkwardly &amp; broke his ankle. https://t.co/ZKXblZiYy1 \n",
      "\n",
      "lmpIying RT @Dj_E5QUIRE: Celtics Gordon Hayward just landed awkwardly &amp; broke his ankle. https://t.co/ZKXblZiYy1 \n",
      "\n",
      "OnIyBaddies RT @Dj_E5QUIRE: Celtics Gordon Hayward just landed awkwardly &amp; broke his ankle. https://t.co/ZKXblZiYy1 \n",
      "\n",
      "neonlightfeeIs RT @Dj_E5QUIRE: Celtics Gordon Hayward just landed awkwardly &amp; broke his ankle. https://t.co/ZKXblZiYy1 \n",
      "\n"
     ]
    }
   ],
   "source": [
    "# Lets find only media or links about celtics\n",
    "query_string = query + \" (filter:media OR filter:links)\"\n",
    "\n",
    "# Perform the search\n",
    "matching_tweets = api.search(q=query_string)\n",
    "\n",
    "print (\"Searched for:\", query_string)\n",
    "print (\"Number found:\", len(matching_tweets))\n",
    "\n",
    "# For each tweet that matches our query, print the author and text\n",
    "print (\"\\nTweets:\")\n",
    "for tweet in matching_tweets:\n",
    "    print (tweet.author.screen_name, tweet.text, '\\n')"
   ]
  },
  {
   "cell_type": "markdown",
   "metadata": {},
   "source": [
    "### Dealing with Pages\n",
    "\n",
    "As mentioned, Twitter serves results in pages. \n",
    "To get all results, we can use Tweepy's Cursor implementation, which handles this iteration through pages for us in the background."
   ]
  },
  {
   "cell_type": "code",
   "execution_count": 9,
   "metadata": {},
   "outputs": [
    {
     "name": "stdout",
     "output_type": "stream",
     "text": [
      "\n",
      "Tweets:\n",
      "Freetzandrei RT @celtics: .@KyrieIrving kept the Bucks dancing last night 👇 https://t.co/ruc5W5VtK3 \n",
      "\n",
      "PauletteCheyney RT @Dj_E5QUIRE: Celtics Gordon Hayward just landed awkwardly &amp; broke his ankle. https://t.co/ZKXblZiYy1 \n",
      "\n",
      "henrylynsz RT @Dj_E5QUIRE: Celtics Gordon Hayward just landed awkwardly &amp; broke his ankle. https://t.co/ZKXblZiYy1 \n",
      "\n",
      "jamey_kennemur RT @MattChinNBA: Tommy Heinsohn made his debut 61 years ago today. Cool old school montage from Celtics Daily. https://t.co/65vl673ChC \n",
      "\n",
      "Onhisbeard RT @celtics: \"Fine, I'll just shoot over you\"\n",
      "\n",
      "First of all... https://t.co/TR9nfjUl6Z \n",
      "\n",
      "TracieHendrix_ RT @Dj_E5QUIRE: Celtics Gordon Hayward just landed awkwardly &amp; broke his ankle. https://t.co/ZKXblZiYy1 \n",
      "\n",
      "CRAZYFLYBIRD718 RT @Dj_E5QUIRE: Celtics Gordon Hayward just landed awkwardly &amp; broke his ankle. https://t.co/ZKXblZiYy1 \n",
      "\n",
      "Tmoney92080 RT @JaredWeissNBA: Boston #Celtics disabled player exception targets: Nerlens Noel, Jahlil Okafor and expiring rookie deals https://t.co/rT… \n",
      "\n",
      "theywantLEXX RT @Dj_E5QUIRE: Celtics Gordon Hayward just landed awkwardly &amp; broke his ankle. https://t.co/ZKXblZiYy1 \n",
      "\n",
      "Ixwie RT @Dj_E5QUIRE: Celtics Gordon Hayward just landed awkwardly &amp; broke his ankle. https://t.co/ZKXblZiYy1 \n",
      "\n",
      "nonemotionaI RT @Dj_E5QUIRE: Celtics Gordon Hayward just landed awkwardly &amp; broke his ankle. https://t.co/ZKXblZiYy1 \n",
      "\n",
      "asiflive RT @Dj_E5QUIRE: Celtics Gordon Hayward just landed awkwardly &amp; broke his ankle. https://t.co/ZKXblZiYy1 \n",
      "\n",
      "lmpIying RT @Dj_E5QUIRE: Celtics Gordon Hayward just landed awkwardly &amp; broke his ankle. https://t.co/ZKXblZiYy1 \n",
      "\n",
      "OnIyBaddies RT @Dj_E5QUIRE: Celtics Gordon Hayward just landed awkwardly &amp; broke his ankle. https://t.co/ZKXblZiYy1 \n",
      "\n",
      "neonlightfeeIs RT @Dj_E5QUIRE: Celtics Gordon Hayward just landed awkwardly &amp; broke his ankle. https://t.co/ZKXblZiYy1 \n",
      "\n",
      "WSVids RT @Dj_E5QUIRE: Celtics Gordon Hayward just landed awkwardly &amp; broke his ankle. https://t.co/ZKXblZiYy1 \n",
      "\n",
      "IndoSportUpdate Jadwal Lengkap NBA: Cavaliers Jumpa Pelicans, Celtics Dihadang Heat https://t.co/GcZ0NMehgT \n",
      "\n",
      "kirsthalliwell RT @Dj_E5QUIRE: Celtics Gordon Hayward just landed awkwardly &amp; broke his ankle. https://t.co/ZKXblZiYy1 \n",
      "\n",
      "glamourgoaI RT @Dj_E5QUIRE: Celtics Gordon Hayward just landed awkwardly &amp; broke his ankle. https://t.co/ZKXblZiYy1 \n",
      "\n",
      "YoungRoyalz RT @Dj_E5QUIRE: Celtics Gordon Hayward just landed awkwardly &amp; broke his ankle. https://t.co/ZKXblZiYy1 \n",
      "\n",
      "YoungVickMane3 RT @Dj_E5QUIRE: Celtics Gordon Hayward just landed awkwardly &amp; broke his ankle. https://t.co/ZKXblZiYy1 \n",
      "\n",
      "descendly RT @Dj_E5QUIRE: Celtics Gordon Hayward just landed awkwardly &amp; broke his ankle. https://t.co/ZKXblZiYy1 \n",
      "\n",
      "cadiheron RT @Dj_E5QUIRE: Celtics Gordon Hayward just landed awkwardly &amp; broke his ankle. https://t.co/ZKXblZiYy1 \n",
      "\n",
      "blackfIame RT @Dj_E5QUIRE: Celtics Gordon Hayward just landed awkwardly &amp; broke his ankle. https://t.co/ZKXblZiYy1 \n",
      "\n",
      "filmfeeIs RT @Dj_E5QUIRE: Celtics Gordon Hayward just landed awkwardly &amp; broke his ankle. https://t.co/ZKXblZiYy1 \n",
      "\n",
      "Sound_PIug RT @Dj_E5QUIRE: Celtics Gordon Hayward just landed awkwardly &amp; broke his ankle. https://t.co/ZKXblZiYy1 \n",
      "\n",
      "DieselBible RT @Dj_E5QUIRE: Celtics Gordon Hayward just landed awkwardly &amp; broke his ankle. https://t.co/ZKXblZiYy1 \n",
      "\n",
      "rosefuII RT @Dj_E5QUIRE: Celtics Gordon Hayward just landed awkwardly &amp; broke his ankle. https://t.co/ZKXblZiYy1 \n",
      "\n",
      "Ionerbae RT @Dj_E5QUIRE: Celtics Gordon Hayward just landed awkwardly &amp; broke his ankle. https://t.co/ZKXblZiYy1 \n",
      "\n",
      "styles_ak RT @Dj_E5QUIRE: Celtics Gordon Hayward just landed awkwardly &amp; broke his ankle. https://t.co/ZKXblZiYy1 \n",
      "\n",
      "naturelovings RT @Dj_E5QUIRE: Celtics Gordon Hayward just landed awkwardly &amp; broke his ankle. https://t.co/ZKXblZiYy1 \n",
      "\n",
      "sexpains RT @Dj_E5QUIRE: Celtics Gordon Hayward just landed awkwardly &amp; broke his ankle. https://t.co/ZKXblZiYy1 \n",
      "\n",
      "boysIovegirls RT @Dj_E5QUIRE: Celtics Gordon Hayward just landed awkwardly &amp; broke his ankle. https://t.co/ZKXblZiYy1 \n",
      "\n",
      "NFLHiLite RT @Dj_E5QUIRE: Celtics Gordon Hayward just landed awkwardly &amp; broke his ankle. https://t.co/ZKXblZiYy1 \n",
      "\n",
      "cloutgems RT @Dj_E5QUIRE: Celtics Gordon Hayward just landed awkwardly &amp; broke his ankle. https://t.co/ZKXblZiYy1 \n",
      "\n",
      "BeautyPaIettes RT @Dj_E5QUIRE: Celtics Gordon Hayward just landed awkwardly &amp; broke his ankle. https://t.co/ZKXblZiYy1 \n",
      "\n",
      "tropicaIsoul RT @Dj_E5QUIRE: Celtics Gordon Hayward just landed awkwardly &amp; broke his ankle. https://t.co/ZKXblZiYy1 \n",
      "\n",
      "ozawa_46 RT @Dj_E5QUIRE: Celtics Gordon Hayward just landed awkwardly &amp; broke his ankle. https://t.co/ZKXblZiYy1 \n",
      "\n",
      "sarahfergu RT @Dj_E5QUIRE: Celtics Gordon Hayward just landed awkwardly &amp; broke his ankle. https://t.co/ZKXblZiYy1 \n",
      "\n",
      "bitichlove RT @Dj_E5QUIRE: Celtics Gordon Hayward just landed awkwardly &amp; broke his ankle. https://t.co/ZKXblZiYy1 \n",
      "\n",
      "iam__kaycee RT @Dj_E5QUIRE: Celtics Gordon Hayward just landed awkwardly &amp; broke his ankle. https://t.co/ZKXblZiYy1 \n",
      "\n",
      "destitution RT @Dj_E5QUIRE: Celtics Gordon Hayward just landed awkwardly &amp; broke his ankle. https://t.co/ZKXblZiYy1 \n",
      "\n",
      "benwcu RT @Dj_E5QUIRE: Celtics Gordon Hayward just landed awkwardly &amp; broke his ankle. https://t.co/ZKXblZiYy1 \n",
      "\n",
      "OD_Mxfia RT @Dj_E5QUIRE: Celtics Gordon Hayward just landed awkwardly &amp; broke his ankle. https://t.co/ZKXblZiYy1 \n",
      "\n",
      "drugfeel RT @Dj_E5QUIRE: Celtics Gordon Hayward just landed awkwardly &amp; broke his ankle. https://t.co/ZKXblZiYy1 \n",
      "\n",
      "realTylerButler RT @Dj_E5QUIRE: Celtics Gordon Hayward just landed awkwardly &amp; broke his ankle. https://t.co/ZKXblZiYy1 \n",
      "\n",
      "RealJoeyBadass RT @Dj_E5QUIRE: Celtics Gordon Hayward just landed awkwardly &amp; broke his ankle. https://t.co/ZKXblZiYy1 \n",
      "\n",
      "declothed RT @Dj_E5QUIRE: Celtics Gordon Hayward just landed awkwardly &amp; broke his ankle. https://t.co/ZKXblZiYy1 \n",
      "\n",
      "UniversityTens RT @Dj_E5QUIRE: Celtics Gordon Hayward just landed awkwardly &amp; broke his ankle. https://t.co/ZKXblZiYy1 \n",
      "\n",
      "mutiIated RT @Dj_E5QUIRE: Celtics Gordon Hayward just landed awkwardly &amp; broke his ankle. https://t.co/ZKXblZiYy1 \n",
      "\n",
      "ayoocjay RT @Dj_E5QUIRE: Celtics Gordon Hayward just landed awkwardly &amp; broke his ankle. https://t.co/ZKXblZiYy1 \n",
      "\n",
      "emotionaIbrat RT @Dj_E5QUIRE: Celtics Gordon Hayward just landed awkwardly &amp; broke his ankle. https://t.co/ZKXblZiYy1 \n",
      "\n",
      "StreetCIout RT @Dj_E5QUIRE: Celtics Gordon Hayward just landed awkwardly &amp; broke his ankle. https://t.co/ZKXblZiYy1 \n",
      "\n",
      "vxrsza RT @Dj_E5QUIRE: Celtics Gordon Hayward just landed awkwardly &amp; broke his ankle. https://t.co/ZKXblZiYy1 \n",
      "\n",
      "BeautyActivity RT @Dj_E5QUIRE: Celtics Gordon Hayward just landed awkwardly &amp; broke his ankle. https://t.co/ZKXblZiYy1 \n",
      "\n",
      "theyunghassi RT @Dj_E5QUIRE: Celtics Gordon Hayward just landed awkwardly &amp; broke his ankle. https://t.co/ZKXblZiYy1 \n",
      "\n",
      "srslylivid RT @Dj_E5QUIRE: Celtics Gordon Hayward just landed awkwardly &amp; broke his ankle. https://t.co/ZKXblZiYy1 \n",
      "\n",
      "Tom_Shepz RT @Dj_E5QUIRE: Celtics Gordon Hayward just landed awkwardly &amp; broke his ankle. https://t.co/ZKXblZiYy1 \n",
      "\n",
      "aestheticfuI RT @Dj_E5QUIRE: Celtics Gordon Hayward just landed awkwardly &amp; broke his ankle. https://t.co/ZKXblZiYy1 \n",
      "\n",
      "Olochin RT @celtics: On this day #TenYearsAgo, Celtics vs Cavs in preseason play https://t.co/BXV63zz5Zb \n",
      "\n",
      "Mellow2High RT @celtics: \"Fine, I'll just shoot over you\"\n",
      "\n",
      "First of all... https://t.co/TR9nfjUl6Z \n",
      "\n",
      "morenita8414 RT @celtics: Last night these 2 became the first #Celtics duo ever to score 20+ points at 21 years-old or younger in same game in team hist… \n",
      "\n",
      "GooduBasketball Kyrie Irving traded to Boston Celtics | KyrieSerye | NBA Updates https://t.co/5cG6YjnDB0 #Boston Celtics \n",
      "\n",
      "LQuells RT @BostonCelts4eva: R.I.P to Celtics legend Red Auerbach who died 11 years ago today. https://t.co/awHWD2JPU3 \n",
      "\n",
      "GALLONEGRO777 RT @BostonCelts4eva: R.I.P to Celtics legend Red Auerbach who died 11 years ago today. https://t.co/awHWD2JPU3 \n",
      "\n",
      "NeilSportsMind RT @BostonCelts4eva: R.I.P to Celtics legend Red Auerbach who died 11 years ago today. https://t.co/awHWD2JPU3 \n",
      "\n",
      "CelticsViews #Celtics #CelticsTalk #CelticsNation Sources: NBA Grant Celtics Disabled-Player Exception for Gordon Hayward I.. https://t.co/3S8tbRSxMd \n",
      "\n",
      "Zooune RT @NBAFRANCE: WHAT THE... 😱 \n",
      "\n",
      "OK, DONC KYRIE IRVING EST UN NINJA!!! #Celtics https://t.co/sSDlLHmwIg \n",
      "\n",
      "JustProduce816 RT @BostonCelts4eva: R.I.P to Celtics legend Red Auerbach who died 11 years ago today. https://t.co/awHWD2JPU3 \n",
      "\n",
      "Big_Dog882 RT @celtics: .@KyrieIrving kept the Bucks dancing last night 👇 https://t.co/ruc5W5VtK3 \n",
      "\n",
      "JeyTheVillain The Celtics would trade 17 al hortfords for KP. Shut up https://t.co/RugdaRfji5 \n",
      "\n",
      "milwaukeesun Kyrie Irving, Al Horford lead Boston Celtics past Giannis Antetokounmpo, Milwaukee Bucks, 96-89  https://t.co/vff98NBkiU \n",
      "\n",
      "NBA_1World Report: NBA grants Celtics $8.4 million disabled player exception - ProBasketballTalk (blog) https://t.co/SjiZO8ysNb \n",
      "\n",
      "derwood334 RT @BostonCelts4eva: R.I.P to Celtics legend Red Auerbach who died 11 years ago today. https://t.co/awHWD2JPU3 \n",
      "\n",
      "MichellePolans3 Best of Cavaliers Vs. Celtics Opening Night | Final Five Minutes https://t.co/eE8H3wYGcO #FireFan #Sport https://t.co/99hyZooARH \n",
      "\n",
      "Milesy1k Can’t fw my boy https://t.co/CDebH5Reyi \n",
      "\n",
      "OldSchool_5 RT @BostonCelts4eva: R.I.P to Celtics legend Red Auerbach who died 11 years ago today. https://t.co/awHWD2JPU3 \n",
      "\n",
      "celtics_rise2 @JaeAzizi @LetsGoWarriors  https://t.co/FO9VNu1tTG \n",
      "\n",
      "Spence_OnSports RT @AdamMKaufman: The #Celtics being granted the DPE does NOT rule out Gordon Hayward for the year. https://t.co/pj7Zp8oJVK \n",
      "\n",
      "Kairi_Hokuto RT @Tveez_World: Lakers and Celtics 2k20 edition 🔥 https://t.co/SVap0AbbR6 \n",
      "\n",
      "apoznick1995 RT @BostonCelts4eva: R.I.P to Celtics legend Red Auerbach who died 11 years ago today. https://t.co/awHWD2JPU3 \n",
      "\n",
      "GooduBasketball Boston Celtics daily links 10/27/17 https://t.co/CMNNdR8NHb #Boston Celtics \n",
      "\n",
      "AngryManTV Celtics without Hayward are still better than the Wizards.... *drops mic* https://t.co/nyIkIkWS2W \n",
      "\n",
      "mayonaka324 RT @streetsdiscip1e: Ever since they wore all black and beat Celtics in a random game in January their egos through the roof https://t.co/1… \n",
      "\n",
      "MDeFalco70 RT @NLC2DFS: Kyrie Irving destroying defenses as usual last night 🏀💪#KyrieIrving #Irving #nba #celtics #basketball #skill #legend #sport #B… \n",
      "\n",
      "thesemajcoleman RT @celtics: .@KyrieIrving kept the Bucks dancing last night 👇 https://t.co/ruc5W5VtK3 \n",
      "\n",
      "Strawberry_Jam1 RT @BostonCelts4eva: R.I.P to Celtics legend Red Auerbach who died 11 years ago today. https://t.co/awHWD2JPU3 \n",
      "\n",
      "theDrunkWook RT @celtics: \"Fine, I'll just shoot over you\"\n",
      "\n",
      "First of all... https://t.co/TR9nfjUl6Z \n",
      "\n",
      "UrielWiley RT @BostonCelts4eva: R.I.P to Celtics legend Red Auerbach who died 11 years ago today. https://t.co/awHWD2JPU3 \n",
      "\n",
      "crushshotsports This is how Kevin Durant reacted when he saw Gordon Hayward's injury live - https://t.co/0aj8RTMNm5 \n",
      "\n"
     ]
    },
    {
     "name": "stdout",
     "output_type": "stream",
     "text": [
      "merrill4_ryan RT @UnequalAnt: The Baustian Celtics https://t.co/E8lmlqaCW2 \n",
      "\n",
      "Olochin RT @BostonCelts4eva: R.I.P to Celtics legend Red Auerbach who died 11 years ago today. https://t.co/awHWD2JPU3 \n",
      "\n",
      "champloo0325 ぱねぇなー\n",
      "#KyrieIrving https://t.co/7NAShw0KKq \n",
      "\n",
      "SarcastrophePL RT @BostonCelts4eva: R.I.P to Celtics legend Red Auerbach who died 11 years ago today. https://t.co/awHWD2JPU3 \n",
      "\n",
      "One_Crazy_Sikhi RT @BostonCelts4eva: R.I.P to Celtics legend Red Auerbach who died 11 years ago today. https://t.co/awHWD2JPU3 \n",
      "\n",
      "_KarateChris RT @streetsdiscip1e: Ever since they wore all black and beat Celtics in a random game in January their egos through the roof https://t.co/1… \n",
      "\n",
      "KornbergerBryan RT @sigg20: Pistons Dave DeBusschere scores first basket at New Madison Square Garden vs Celtics in 1st game of NBA Doubleheader,1968 #msg#… \n",
      "\n",
      "HotstuffINT007 RT @BostonCelts4eva: R.I.P to Celtics legend Red Auerbach who died 11 years ago today. https://t.co/awHWD2JPU3 \n",
      "\n",
      "CharlesHReganIV RT @celtics: .@aronbaynes is cooking over on @NESN Dining Playbook - go check it out 🥘🍽 https://t.co/ohOzrOhiDL \n",
      "\n",
      "bostonnews002 RT @BostonCelts4eva: R.I.P to Celtics legend Red Auerbach who died 11 years ago today. https://t.co/awHWD2JPU3 \n",
      "\n"
     ]
    }
   ],
   "source": [
    "# Lets find only media or links about celtics\n",
    "queryString = \"celtics (filter:media OR filter:links)\"\n",
    "\n",
    "# How many tweets should we fetch? Upper limit is 1,500\n",
    "maxToReturn = 100\n",
    "\n",
    "# Perform the search, and for each tweet that matches our query, \n",
    "# print the author and text\n",
    "print (\"\\nTweets:\")\n",
    "for status in tweepy.Cursor(api.search, q=queryString).items(maxToReturn):\n",
    "    print (status.author.screen_name, status.text, '\\n')"
   ]
  },
  {
   "cell_type": "markdown",
   "metadata": {},
   "source": [
    "### Other Search Functionality\n",
    "\n",
    "The Tweepy wrapper and Twitter API is pretty extensive.\n",
    "You can do things like pull the last 3,200 tweets from other users' timelines, find all retweets of your account, get follower lists, search for users matching a query, etc.\n",
    "\n",
    "More information on Tweepy's capabilities are available at its documentation page: (http://tweepy.readthedocs.io/en/v3.5.0/api.html)\n",
    "\n",
    "Other information on the Twitter API is available here: (https://developer.twitter.com/en/docs/api-reference-index)."
   ]
  }
 ],
 "metadata": {
  "kernelspec": {
   "display_name": "Python 3",
   "language": "python",
   "name": "python3"
  },
  "language_info": {
   "codemirror_mode": {
    "name": "ipython",
    "version": 3
   },
   "file_extension": ".py",
   "mimetype": "text/x-python",
   "name": "python",
   "nbconvert_exporter": "python",
   "pygments_lexer": "ipython3",
   "version": "3.6.3"
  }
 },
 "nbformat": 4,
 "nbformat_minor": 1
}
